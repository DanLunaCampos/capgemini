{
  "nbformat": 4,
  "nbformat_minor": 0,
  "metadata": {
    "colab": {
      "name": "Encriptacao.ipynb",
      "provenance": [],
      "authorship_tag": "ABX9TyNSaFyycV801em/7wKVzQbO"
    },
    "kernelspec": {
      "name": "python3",
      "display_name": "Python 3"
    },
    "language_info": {
      "name": "python"
    }
  },
  "cells": [
    {
      "cell_type": "code",
      "execution_count": 11,
      "metadata": {
        "colab": {
          "base_uri": "https://localhost:8080/"
        },
        "id": "WTIGZ38njJHw",
        "outputId": "a038faf1-8155-4cb2-8068-322244e12f1f"
      },
      "outputs": [
        {
          "output_type": "stream",
          "name": "stdout",
          "text": [
            "ola mundo\n",
            "omd luo an\n"
          ]
        }
      ],
      "source": [
        "##Danilo Luna Campos, desafio Capgemini, Encriptacao\n",
        "#Código adaptado do Hackerrank\n",
        "\n",
        "import math\n",
        "from collections import defaultdict\n",
        "\n",
        "def encriptacao(text):\n",
        "    text = text.replace(\" \",\"\")\n",
        "    root= math.sqrt(len(text))\n",
        "    r = math.floor(root)\n",
        "    c = math.ceil(root)\n",
        "    d = defaultdict(str)\n",
        "    for i in range(0,len(text),c):\n",
        "        sub = text[i:i+c]\n",
        "        for x in range(len(sub)):\n",
        "            d[x]+=sub[x]\n",
        "    return(list(d.values()))\n",
        "\n",
        "#Deve ser escrita a frase a ser encriptada como input\n",
        "print(*encriptacao(input()))"
      ]
    }
  ]
}